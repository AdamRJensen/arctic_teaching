{
 "cells": [
  {
   "cell_type": "markdown",
   "id": "464b310d-7b07-407b-8b49-e340d2aa463e",
   "metadata": {},
   "source": [
    "# Tutorial on using DMI data"
   ]
  },
  {
   "cell_type": "markdown",
   "id": "ccbd8eb4-ed02-4595-b467-c83a7f5026a7",
   "metadata": {},
   "source": [
    "This Python notebook presents a convenient function for retrieving meteorological observation data from the Danish Meteorological Institute (DMI). DMI offers observational data from both Denmark and Greenland.\n",
    "\n",
    "You can read more about DMI's free data API [here](https://opendatadocs.dmi.govcloud.dk/en/Data/Meteorological_Observation_Data) or in this [blog post](https://predictablysunny.com/posts/dmi_data/).\n"
   ]
  },
  {
   "cell_type": "markdown",
   "id": "bfedf70e-769a-4a26-943e-03095cd48a27",
   "metadata": {},
   "source": [
    "## Step 0: Familiarize yourself with Google Colab\n",
    "\n",
    "The notebook can be seamlessly run in Google Colab, a free no-installation tool for running Python code from your web browser. \n",
    "\n",
    "Notebooks are organized by text and code \"cells\".  You can double-click a cell to start editing it.  To render a text cell, or execute a code cell, hit shift+enter.\n",
    "\n",
    "In the code cell below, try out some math calculations to explore how the notebook and Python works:"
   ]
  },
  {
   "cell_type": "code",
   "execution_count": 1,
   "id": "88471a0b-5cae-4b15-8d16-416b6b652031",
   "metadata": {},
   "outputs": [
    {
     "name": "stdout",
     "output_type": "stream",
     "text": [
      "3\n"
     ]
    }
   ],
   "source": [
    "# Try and write some code here\n",
    "a = 1\n",
    "b = 2\n",
    "print(a + b)"
   ]
  },
  {
   "cell_type": "markdown",
   "id": "ed7eab57-0c5c-4a06-9ee7-250eddac2af1",
   "metadata": {},
   "source": [
    "## Step 1: Import packages\n",
    "\n",
    "The first step in almost all Python scripts is to load some packages also known as libraries:"
   ]
  },
  {
   "cell_type": "code",
   "execution_count": 2,
   "id": "43ba277b-2661-4365-a959-09db3e2bc375",
   "metadata": {},
   "outputs": [],
   "source": [
    "import pandas as pd  # package for data analysis\n",
    "import numpy as np  # package for math operations\n",
    "import matplotlib.pyplot as plt  # package for plotting\n",
    "import requests  # package for making web requests"
   ]
  },
  {
   "cell_type": "markdown",
   "id": "abbaff9d-bdbc-4536-8c29-a6b23d75523b",
   "metadata": {},
   "source": [
    "## Step 2: Define a function to retrieve data\n",
    "\n",
    "For convenience, this function has already been created, which takes care of the data request formatting. Skip to the next cell to retrieve the data:"
   ]
  },
  {
   "cell_type": "code",
   "execution_count": 3,
   "id": "bcba976e-3185-4a3f-a39e-71a72e68eda0",
   "metadata": {},
   "outputs": [],
   "source": [
    "def get_dmi(station, start, end, parameters, api_key):\n",
    "    DMI_URL = 'https://dmigw.govcloud.dk/v2/metObs/collections/observation/items'\n",
    "    \n",
    "    # Derive datetime specifier string\n",
    "    datetime_str = (\n",
    "        pd.Timestamp(start).tz_localize('UTC').isoformat()\n",
    "        + '/'\n",
    "        + pd.Timestamp(end).tz_localize('UTC').isoformat()\n",
    "    )\n",
    "    \n",
    "    dfs = []\n",
    "    for parameter in parameters:\n",
    "        params = {\n",
    "            'api-key': api_key,\n",
    "            'datetime': datetime_str,\n",
    "            'stationId': station,\n",
    "            'parameterId': parameter,\n",
    "            'limit': '300000',\n",
    "        }\n",
    "    \n",
    "        ii = 0\n",
    "        dfis = []\n",
    "        while True:\n",
    "            if ii == 0:\n",
    "                ii += 1\n",
    "                r = requests.get(DMI_URL, params=params)\n",
    "            else:\n",
    "                ii += 1\n",
    "                link = r.json().get('links', [])\n",
    "                if link and link[-1]['title'] == 'Next set of results':\n",
    "                    url = link[-1]['href']\n",
    "                    r = requests.get(url)\n",
    "                else:\n",
    "                    break\n",
    "    \n",
    "            json = r.json()\n",
    "            dfi = pd.json_normalize(json.get('features', []))\n",
    "            if dfi.empty:\n",
    "                continue\n",
    "            dfi['time'] = pd.to_datetime(dfi['properties.observed'])\n",
    "            dfi = dfi[['time', 'properties.value', 'properties.stationId', 'properties.parameterId']]\n",
    "            dfi.columns = [c.replace('properties.', '') for c in dfi.columns]\n",
    "            dfi = dfi[~dfi.duplicated()]\n",
    "            dfi = dfi.set_index(['parameterId', 'time'])\n",
    "            dfi = dfi['value'].unstack(['parameterId'])\n",
    "            dfis.append(dfi)\n",
    "    \n",
    "        if not dfis:\n",
    "            print(f\"Station has no data: {station} for parameter: {parameter}\")\n",
    "            continue\n",
    "    \n",
    "        dfs.append(pd.concat(dfis, axis='rows').sort_index())\n",
    "    \n",
    "    if not dfs:\n",
    "        print(f\"No data collected for station {station}. Skipping...\")\n",
    "    \n",
    "    df = pd.concat(dfs, axis='columns')\n",
    "    return df"
   ]
  },
  {
   "cell_type": "markdown",
   "id": "c7165969-eb85-496a-84a2-42f9c83508b1",
   "metadata": {},
   "source": [
    "## Step 3: Specify your data requirements and retrieve data\n",
    "\n",
    "Modify the parameters below to retrieve air temperature, wind speed, and wind direction from DMI's station in Sisimiut.\n",
    "\n",
    "You can find a list of meteorological parameters [**here**](https://opendatadocs.dmi.govcloud.dk/en/Data/Meteorological_Observation_Data) and a list of available stations [**here**](https://opendatadocs.dmi.govcloud.dk/Data/Meteorological_Observation_Data_Stations)."
   ]
  },
  {
   "cell_type": "code",
   "execution_count": 4,
   "id": "f1dcc0b1-e5e5-4f67-bad2-12e7c7763f85",
   "metadata": {},
   "outputs": [],
   "source": [
    "# Specify all the Greenlandic active stations\n",
    "station = '04202'\n",
    "\n",
    "# Define period of interest\n",
    "start = '2025-04-22'\n",
    "end = '2025-04-23'\n",
    "\n",
    "# Paste in your API key\n",
    "api_key = ''\n",
    "\n",
    "# Specify global radiation\n",
    "parameters = ['temp_dry', 'wind_speed']\n",
    "\n",
    "# Retrieve data\n",
    "data = get_dmi(station, start, end, parameters, api_key)"
   ]
  },
  {
   "cell_type": "markdown",
   "id": "e05ffe73-97f8-4eb8-a233-5357acaaba4b",
   "metadata": {},
   "source": [
    "## Step 4: Inspect the data\n",
    "\n",
    "The retrieved data is in a Pandas DataFrame (``data``):"
   ]
  },
  {
   "cell_type": "code",
   "execution_count": 5,
   "id": "90456bef-4781-41e6-bf2a-07bb92471ea4",
   "metadata": {},
   "outputs": [
    {
     "data": {
      "text/html": [
       "<div>\n",
       "<style scoped>\n",
       "    .dataframe tbody tr th:only-of-type {\n",
       "        vertical-align: middle;\n",
       "    }\n",
       "\n",
       "    .dataframe tbody tr th {\n",
       "        vertical-align: top;\n",
       "    }\n",
       "\n",
       "    .dataframe thead th {\n",
       "        text-align: right;\n",
       "    }\n",
       "</style>\n",
       "<table border=\"1\" class=\"dataframe\">\n",
       "  <thead>\n",
       "    <tr style=\"text-align: right;\">\n",
       "      <th>parameterId</th>\n",
       "      <th>temp_dry</th>\n",
       "      <th>wind_speed</th>\n",
       "      <th>wind_dir</th>\n",
       "    </tr>\n",
       "    <tr>\n",
       "      <th>time</th>\n",
       "      <th></th>\n",
       "      <th></th>\n",
       "      <th></th>\n",
       "    </tr>\n",
       "  </thead>\n",
       "  <tbody>\n",
       "    <tr>\n",
       "      <th>2025-04-22 00:00:00+00:00</th>\n",
       "      <td>-4.2</td>\n",
       "      <td>2.6</td>\n",
       "      <td>290.0</td>\n",
       "    </tr>\n",
       "    <tr>\n",
       "      <th>2025-04-22 01:00:00+00:00</th>\n",
       "      <td>-4.4</td>\n",
       "      <td>2.6</td>\n",
       "      <td>290.0</td>\n",
       "    </tr>\n",
       "    <tr>\n",
       "      <th>2025-04-22 02:00:00+00:00</th>\n",
       "      <td>-4.7</td>\n",
       "      <td>2.6</td>\n",
       "      <td>280.0</td>\n",
       "    </tr>\n",
       "  </tbody>\n",
       "</table>\n",
       "</div>"
      ],
      "text/plain": [
       "parameterId                temp_dry  wind_speed  wind_dir\n",
       "time                                                     \n",
       "2025-04-22 00:00:00+00:00      -4.2         2.6     290.0\n",
       "2025-04-22 01:00:00+00:00      -4.4         2.6     290.0\n",
       "2025-04-22 02:00:00+00:00      -4.7         2.6     280.0"
      ]
     },
     "execution_count": 5,
     "metadata": {},
     "output_type": "execute_result"
    }
   ],
   "source": [
    "data.head()  # print the first five rows"
   ]
  },
  {
   "cell_type": "markdown",
   "id": "b9920e5f-a389-40e4-924a-38c72ea1ea88",
   "metadata": {},
   "source": [
    "## Step 5: Plot the data:"
   ]
  },
  {
   "cell_type": "code",
   "execution_count": 6,
   "id": "b766af2d-3e0e-4c00-83db-0d4b7bdd0b27",
   "metadata": {},
   "outputs": [
    {
     "data": {
      "text/plain": [
       "array([<Axes: xlabel='time'>, <Axes: xlabel='time'>,\n",
       "       <Axes: xlabel='time'>], dtype=object)"
      ]
     },
     "execution_count": 6,
     "metadata": {},
     "output_type": "execute_result"
    },
    {
     "data": {
      "image/png": "[encoded data removed]",
      "text/plain": [
       "<Figure size 600x600 with 3 Axes>"
      ]
     },
     "metadata": {},
     "output_type": "display_data"
    }
   ],
   "source": [
    "data.plot(figsize=(6, 6), sharex=True, subplots=True)"
   ]
  },
  {
   "cell_type": "code",
   "execution_count": null,
   "id": "a00046a8-0513-4b61-a3f5-ac6d7325abdc",
   "metadata": {},
   "outputs": [],
   "source": []
  }
 ],
 "metadata": {
  "kernelspec": {
   "display_name": "Python 3 (ipykernel)",
   "language": "python",
   "name": "python3"
  },
  "language_info": {
   "codemirror_mode": {
    "name": "ipython",
    "version": 3
   },
   "file_extension": ".py",
   "mimetype": "text/x-python",
   "name": "python",
   "nbconvert_exporter": "python",
   "pygments_lexer": "ipython3",
   "version": "3.11.6"
  }
 },
 "nbformat": 4,
 "nbformat_minor": 5
}
